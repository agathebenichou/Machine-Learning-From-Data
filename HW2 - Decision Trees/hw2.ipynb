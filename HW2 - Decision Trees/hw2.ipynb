{
  "cells": [
    {
      "cell_type": "markdown",
      "metadata": {
        "id": "xLGpUAA3cs_C",
        "nbgrader": {
          "grade": false,
          "grade_id": "cell-6bd0516e7cb654f5",
          "locked": true,
          "schema_version": 1,
          "solution": false
        }
      },
      "source": [
        "# Exercise 2: Decision Trees\n",
        "\n",
        "In this assignment you will implement a Decision Tree algorithm as learned in class.\n",
        "\n",
        "## In this exercise you will perform the following:\n",
        "1. Practice OOP in python.\n",
        "2. Implement two impurity measures: Gini and Entropy.\n",
        "3. Construct a decision tree algorithm.\n",
        "4. Prune the tree to achieve better results.\n",
        "5. Visualize your results."
      ]
    },
    {
      "cell_type": "code",
      "execution_count": null,
      "metadata": {
        "id": "UpT8Ax8Rcs_H",
        "nbgrader": {
          "grade": false,
          "grade_id": "cell-ed9fe7b1026e33cb",
          "locked": true,
          "schema_version": 1,
          "solution": false
        }
      },
      "outputs": [],
      "source": [
        "import numpy as np\n",
        "import pandas as pd\n",
        "import matplotlib.pyplot as plt\n",
        "\n",
        "# make matplotlib figures appear inline in the notebook\n",
        "%matplotlib inline\n",
        "plt.rcParams['figure.figsize'] = (10.0, 8.0) # set default size of plots\n",
        "plt.rcParams['image.interpolation'] = 'nearest'\n",
        "plt.rcParams['image.cmap'] = 'gray'\n",
        "\n",
        "# Ignore warnings\n",
        "import warnings\n",
        "warnings.filterwarnings('ignore')"
      ]
    },
    {
      "cell_type": "markdown",
      "metadata": {
        "id": "N1tmBsIlcs_J",
        "nbgrader": {
          "grade": false,
          "grade_id": "cell-c6ac605270c2b091",
          "locked": true,
          "schema_version": 1,
          "solution": false
        }
      },
      "source": [
        "## Warmup - OOP in python\n",
        "\n",
        "Our desicion tree will be implemented using a dedicated python class. Python classes are very similar to classes in Java.\n",
        "\n",
        "\n",
        "You can use the following [site](https://jeffknupp.com/blog/2014/06/18/improve-your-python-python-classes-and-object-oriented-programming/) to learn about classes in python."
      ]
    },
    {
      "cell_type": "code",
      "execution_count": null,
      "metadata": {
        "id": "a-7uF_xCcs_J"
      },
      "outputs": [],
      "source": [
        "class Node(object):\n",
        "    def __init__(self, data):\n",
        "        self.data = data\n",
        "        self.children = []\n",
        "\n",
        "    def add_child(self, node):\n",
        "        self.children.append(node)"
      ]
    },
    {
      "cell_type": "code",
      "execution_count": null,
      "metadata": {
        "colab": {
          "base_uri": "https://localhost:8080/"
        },
        "id": "JOQH0DTtcs_K",
        "outputId": "d0ede2b9-fc57-4c8c-8bc6-40f622625e3d"
      },
      "outputs": [
        {
          "data": {
            "text/plain": [
              "[<__main__.Node at 0x7f75edbab750>, <__main__.Node at 0x7f75edbab7d0>]"
            ]
          },
          "execution_count": 3,
          "metadata": {},
          "output_type": "execute_result"
        }
      ],
      "source": [
        "n = Node(5)\n",
        "p = Node(6)\n",
        "q = Node(7)\n",
        "n.add_child(p)\n",
        "n.add_child(q)\n",
        "n.children"
      ]
    },
    {
      "cell_type": "markdown",
      "metadata": {
        "id": "5JBLZQrscs_L",
        "nbgrader": {
          "grade": false,
          "grade_id": "cell-2f1ceb251c649b62",
          "locked": true,
          "schema_version": 1,
          "solution": false
        }
      },
      "source": [
        "## Data preprocessing\n",
        "\n",
        "For the following exercise, we will use a dataset containing mushroom data `agaricus-lepiota.csv`. \n",
        "\n",
        "This data set includes descriptions of hypothetical samples corresponding to 23 species of gilled mushrooms in the Agaricus and Lepiota Family. Each species is identified as definitely edible, definitely poisonous, or of unknown edibility and not recommended. This latter class was combined with the poisonous\n",
        "one (=there are only two classes **edible** and **poisonous**). \n",
        "    \n",
        "The dataset contains 8124 observations with 22 features:\n",
        "1. cap-shape: bell=b,conical=c,convex=x,flat=f,knobbed=k,sunken=s\n",
        "2. cap-surface: fibrous=f,grooves=g,scaly=y,smooth=s\n",
        "3. cap-color: brown=n,buff=b,cinnamon=c,gray=g,green=r,pink=p,purple=u,red=e,white=w,yellow=y\n",
        "4. bruises: bruises=t,no=f\n",
        "5. odor: almond=a,anise=l,creosote=c,fishy=y,foul=f, musty=m,none=n,pungent=p,spicy=s\n",
        "6. gill-attachment: attached=a,descending=d,free=f,notched=n\n",
        "7. gill-spacing: close=c,crowded=w,distant=d\n",
        "8. gill-size: broad=b,narrow=n\n",
        "9. gill-color: black=k,brown=n,buff=b,chocolate=h,gray=g,green=r,orange=o,pink=p,purple=u,red=e,white=w,yellow=y\n",
        "10. stalk-shape: enlarging=e,tapering=t\n",
        "11. stalk-root: bulbous=b,club=c,cup=u,equal=e,rhizomorphs=z,rooted=r\n",
        "12. stalk-surface-above-ring: fibrous=f,scaly=y,silky=k,smooth=s\n",
        "13. stalk-surface-below-ring: fibrous=f,scaly=y,silky=k,smooth=s\n",
        "14. stalk-color-above-ring: brown=n,buff=b,cinnamon=c,gray=g,orange=o,pink=p,red=e,white=w,yellow=y\n",
        "15. stalk-color-below-ring: brown=n,buff=b,cinnamon=c,gray=g,orange=o,pink=p,red=e,white=w,yellow=y\n",
        "16. veil-type: partial=p,universal=u\n",
        "17. veil-color: brown=n,orange=o,white=w,yellow=y\n",
        "18. ring-number: none=n,one=o,two=t\n",
        "19. ring-type: cobwebby=c,evanescent=e,flaring=f,large=l,none=n,pendant=p,sheathing=s,zone=z\n",
        "20. spore-print-color: black=k,brown=n,buff=b,chocolate=h,green=r,orange=o,purple=u,white=w,yellow=y\n",
        "21. population: abundant=a,clustered=c,numerous=n,scattered=s,several=v,solitary=y\n",
        "22. habitat: grasses=g,leaves=l,meadows=m,paths=p,urban=u,waste=w,woods=d\n",
        "\n",
        "First, we will read and explore the data using pandas and the `.read_csv` method. Pandas is an open source library providing high-performance, easy-to-use data structures and data analysis tools for the Python programming language."
      ]
    },
    {
      "cell_type": "code",
      "execution_count": null,
      "metadata": {
        "id": "s5E6CQtpcs_M",
        "nbgrader": {
          "grade": false,
          "grade_id": "cell-d79cb4542926ad3f",
          "locked": true,
          "schema_version": 1,
          "solution": false
        }
      },
      "outputs": [],
      "source": [
        "# load dataset\n",
        "data = pd.read_csv('agaricus-lepiota.csv')"
      ]
    },
    {
      "cell_type": "markdown",
      "metadata": {
        "id": "9nqRdx8acs_M"
      },
      "source": [
        "One of the advantages of the Decision Tree algorithm is that almost no preprocessing is required. However, finding missing values is always required."
      ]
    },
    {
      "cell_type": "code",
      "execution_count": null,
      "metadata": {
        "id": "qP3cqFDYcs_N"
      },
      "outputs": [],
      "source": [
        "#############################################################################\n",
        "# TODO: Find columns with missing values and remove them from the data.#\n",
        "#############################################################################\n",
        "# drop columns if there are missing values \n",
        "data.dropna(axis=1, inplace=True)\n",
        "#############################################################################\n",
        "#                             END OF YOUR CODE                              #\n",
        "#############################################################################"
      ]
    },
    {
      "cell_type": "markdown",
      "metadata": {
        "id": "0Io_gE4Zcs_N"
      },
      "source": [
        "We will split the dataset to `Training` and `Testing` datasets."
      ]
    },
    {
      "cell_type": "code",
      "execution_count": null,
      "metadata": {
        "colab": {
          "base_uri": "https://localhost:8080/"
        },
        "id": "kKC9PyhVcs_N",
        "outputId": "28bf594c-3b87-42ac-c14e-20d273fc3230"
      },
      "outputs": [
        {
          "name": "stdout",
          "output_type": "stream",
          "text": [
            "Training dataset shape:  (6093, 22)\n",
            "Testing dataset shape:  (2031, 22)\n"
          ]
        }
      ],
      "source": [
        "from sklearn.model_selection import train_test_split\n",
        "# Making sure the last column will hold the labels\n",
        "X, y = data.drop('class', axis=1), data['class']\n",
        "X = np.column_stack([X,y])\n",
        "# split dataset using random_state to get the same split each time\n",
        "X_train, X_test = train_test_split(X, random_state=99)\n",
        "\n",
        "print(\"Training dataset shape: \", X_train.shape)\n",
        "print(\"Testing dataset shape: \", X_test.shape)"
      ]
    },
    {
      "cell_type": "code",
      "execution_count": null,
      "metadata": {
        "colab": {
          "base_uri": "https://localhost:8080/"
        },
        "id": "E_uHqKjUcs_O",
        "outputId": "76ca1cf1-f273-4a20-9011-9a097c14ef88"
      },
      "outputs": [
        {
          "data": {
            "text/plain": [
              "(8124,)"
            ]
          },
          "execution_count": 7,
          "metadata": {},
          "output_type": "execute_result"
        }
      ],
      "source": [
        "y.shape"
      ]
    },
    {
      "cell_type": "markdown",
      "metadata": {
        "id": "inkeNWn2cs_O",
        "nbgrader": {
          "grade": false,
          "grade_id": "cell-fd7b0191f3f1e897",
          "locked": true,
          "schema_version": 1,
          "solution": false
        }
      },
      "source": [
        "## Impurity Measures\n",
        "\n",
        "Impurity is a measure of how often a randomly chosen element from the set would be incorrectly labeled if it was randomly labeled according to the distribution of labels in the subset. Implement the functions `calc_gini` and `calc_entropy`. You are encouraged to test your implementation (10 points)."
      ]
    },
    {
      "cell_type": "code",
      "execution_count": null,
      "metadata": {
        "id": "giCFzIfGcs_O"
      },
      "outputs": [],
      "source": [
        "def calc_gini(data):\n",
        "    \"\"\"\n",
        "    Calculate gini impurity measure of a dataset.\n",
        " \n",
        "    Input:\n",
        "    - data: any dataset where the last column holds the labels.\n",
        " \n",
        "    Returns the gini impurity.    \n",
        "    \"\"\"\n",
        "    gini = 0.0\n",
        "    ###########################################################################\n",
        "    # TODO: Implement the function.                                           #\n",
        "    ###########################################################################\n",
        "    \n",
        "    labels = np.unique(data[:,-1], return_counts=True)[1]\n",
        "    p = (labels/data.shape[0])\n",
        "    gini = 1-(p**2).sum()\n",
        "\n",
        "    ###########################################################################\n",
        "    #                             END OF YOUR CODE                            #\n",
        "    ###########################################################################\n",
        "    return gini"
      ]
    },
    {
      "cell_type": "code",
      "execution_count": null,
      "metadata": {
        "id": "_QpMO1IWcs_O"
      },
      "outputs": [],
      "source": [
        "def calc_entropy(data):\n",
        "    \"\"\"\n",
        "    Calculate the entropy of a dataset.\n",
        "\n",
        "    Input:\n",
        "    - data: any dataset where the last column holds the labels.\n",
        "\n",
        "    Returns the entropy of the dataset.    \n",
        "    \"\"\"\n",
        "    entropy = 0.0\n",
        "    ###########################################################################\n",
        "    # TODO: Implement the function.                                           #\n",
        "    ###########################################################################\n",
        "    labels = np.unique(data[:,-1], return_counts=True)[1]\n",
        "    p = labels/data.shape[0]\n",
        "    entropy = -np.dot(p,np.log2(p))\n",
        "    ###########################################################################\n",
        "    #                             END OF YOUR CODE                            #\n",
        "    ###########################################################################\n",
        "    return entropy"
      ]
    },
    {
      "cell_type": "code",
      "execution_count": null,
      "metadata": {
        "colab": {
          "base_uri": "https://localhost:8080/"
        },
        "id": "bnOPwsqics_P",
        "outputId": "5fb2f18b-947f-46fa-a317-20ef9e91ac9c",
        "scrolled": true
      },
      "outputs": [
        {
          "data": {
            "text/plain": [
              "(0.4995636322379775, 0.9993703627906085)"
            ]
          },
          "execution_count": 10,
          "metadata": {},
          "output_type": "execute_result"
        }
      ],
      "source": [
        "##### Your Tests Here #####\n",
        "calc_gini(X), calc_entropy(X)"
      ]
    },
    {
      "cell_type": "markdown",
      "metadata": {
        "id": "l0AdTsz7cs_P"
      },
      "source": [
        "## Goodness of Split\n",
        "\n",
        "Given a feature the Goodnees of Split measures the reduction in the impurity if we split the data according to the feature.\n",
        "$$\n",
        "\\Delta\\varphi(S, A) = \\varphi(S) - \\sum_{v\\in Values(A)} \\frac{|S_v|}{|S|}\\varphi(S_v)\n",
        "$$\n",
        "\n",
        "In our implementation the goodness_of_split function will return either the Goodness of Split or the Gain Ratio as learned in class. You'll control the return value with the `gain_ratio` parameter. If this parameter will set to False (the default value) it will return the regular Goodness of Split. If it will set to True it will return the Gain Ratio.\n",
        "$$\n",
        "GainRatio(S,A)=\\frac{InformationGain(S,A)}{SplitInformation(S,A)}\n",
        "$$\n",
        "Where:\n",
        "$$\n",
        "InformationGain(S,A)=Goodness\\ of\\ Split\\ calculated\\ with\\ Entropy\\ as\\ the\\ Impurity\\ function \\\\\n",
        "SplitInformation(S,A)=- \\sum_{a\\in A} \\frac{|S_a|}{|S|}\\log\\frac{|S_a|}{|S|}\n",
        "$$\n",
        "NOTE: you can add more parameters to the function and you can also add more returning variables (The given parameters and the given returning variable should not be touch). (10 Points)"
      ]
    },
    {
      "cell_type": "code",
      "execution_count": null,
      "metadata": {
        "id": "lP2Odk9Xcs_R"
      },
      "outputs": [],
      "source": [
        "def goodness_of_split(data, feature, impurity_func, gain_ratio=False):\n",
        "    \"\"\"\n",
        "    Calculate the goodness of split of a dataset given a feature and impurity function.\n",
        "\n",
        "    Input:\n",
        "    - data: any dataset where the last column holds the labels.\n",
        "    - feature: the feature index.\n",
        "    - impurity func: a function that calculates the impurity.\n",
        "    - gain_ratio: goodness of split or gain ratio flag.\n",
        "\n",
        "    Returns the goodness of split (or the Gain Ration).  \n",
        "    \"\"\"\n",
        "    ###########################################################################\n",
        "    # TODO: Implement the function.                                           #\n",
        "    ###########################################################################\n",
        "\n",
        "    #gain ratio is relevant only for entropy\n",
        "    if gain_ratio is True:\n",
        "        assert impurity_func == calc_entropy\n",
        "\n",
        "    # extractvalues for that feature from data with labels\n",
        "    feature_values = data[:,[feature, -1]]\n",
        "\n",
        "    # for each feature value, group with labels\n",
        "    grouped_feature_values = feature_values[np.argsort(feature_values[:,0])]\n",
        "\n",
        "    # split labels and values for the feature into distinct arrays\n",
        "    split_features_labels = np.split(grouped_feature_values[:,1], np.unique(grouped_feature_values[:,0], return_index = True)[1])[1:]\n",
        "\n",
        "    # array of impurities for each group\n",
        "    impurities = np.array([impurity_func(grou[:,None]) for grou in split_features_labels])\n",
        "\n",
        "    # weighted averages\n",
        "    probs = (np.unique(grouped_feature_values[:,0], return_counts=True)[1] / grouped_feature_values[:,0].shape[0])\n",
        "\n",
        "    # goodness of split calculation\n",
        "    goodness = (impurity_func(data) - np.dot(probs,impurities))\n",
        "\n",
        "    if gain_ratio is True and goodness > 0.000001:\n",
        "      goodness /= calc_entropy(feature_values[:,0][:,None])\n",
        "      \n",
        "    ###########################################################################\n",
        "    #                             END OF YOUR CODE                            #\n",
        "    ###########################################################################\n",
        "    return goodness    "
      ]
    },
    {
      "cell_type": "code",
      "execution_count": null,
      "metadata": {
        "colab": {
          "base_uri": "https://localhost:8080/"
        },
        "id": "Jm3Ay6kNcs_T",
        "outputId": "ea1e19ad-5ea7-4b05-d694-746ba8ce279f"
      },
      "outputs": [
        {
          "name": "stdout",
          "output_type": "stream",
          "text": [
            "0.49516949727436654\n",
            "0.011999711708812375\n"
          ]
        }
      ],
      "source": [
        "print(goodness_of_split(X, 4, calc_entropy, gain_ratio=False))\n",
        "print(goodness_of_split(X, 1, calc_entropy, gain_ratio=True))"
      ]
    },
    {
      "cell_type": "markdown",
      "metadata": {
        "id": "hc0Mn9e1cs_T"
      },
      "source": [
        "## Building a Decision Tree\n",
        "\n",
        "Use a Python class to construct the decision tree. Your class should support the following functionality:\n",
        "\n",
        "1. Initiating a node for a decision tree. You will need to use several class methods and class attributes and you are free to use them as you see fit. We recommend that every node will hold the feature and value used for the split and its children.\n",
        "2. Your code should support both Gini and Entropy as impurity measures. \n",
        "3. The provided data includes categorical data. In this exercise, when splitting a node create the number of children needed according to the attribute unique values.\n",
        "\n",
        "Complete the class `DecisionNode`. The structure of this class is entirely up to you. \n",
        "\n",
        "Complete the function `build_tree`. This function should get the training dataset and the impurity as inputs, initiate a root for the decision tree and construct the tree according to the procedure you learned in class. (30 points)"
      ]
    },
    {
      "cell_type": "code",
      "execution_count": null,
      "metadata": {
        "id": "8OafACzpcs_T"
      },
      "outputs": [],
      "source": [
        "class DecisionNode:\n",
        "    \"\"\"\n",
        "    This class will hold everything you require to construct a decision tree.\n",
        "    The structure of this class is up to you. However, you need to support basic \n",
        "    functionality as described above. It is highly recommended that you \n",
        "    first read and understand the entire exercise before diving into this class.\n",
        "    \"\"\"\n",
        "    def __init__(self, depth, data, feature, feature_value, prediction, impurity):\n",
        "        self.feature = feature # column index of feature being tested\n",
        "        self.feature_value = feature_value # value of feature selected from parent\n",
        "        self.children = [] # children of a node\n",
        "        self.data = data # data the node holds\n",
        "        self.prediction = prediction\n",
        "        self.impurity = impurity\n",
        "        self.depth = depth # distance from root node\n",
        "\n",
        "    def add_child(self, node):\n",
        "        self.children.append(node)"
      ]
    },
    {
      "cell_type": "code",
      "execution_count": null,
      "metadata": {
        "id": "xuajFo0fcs_T"
      },
      "outputs": [],
      "source": [
        "import queue\n",
        "\n",
        "def build_tree(data, impurity, gain_ratio=False, min_samples_split=1, max_depth=1000):\n",
        "    \"\"\"\n",
        "    Build a tree using the given impurity measure and training dataset. \n",
        "    You are required to fully grow the tree until all leaves are pure. \n",
        "\n",
        "    Input:\n",
        "    - data: the training dataset.\n",
        "    - impurity: the chosen impurity measure. Notice that you can send a function\n",
        "                as an argument in python.\n",
        "    - gain_ratio: goodness of split or gain ratio flag\n",
        "    - min_samples_split: the minimum number of samples required to split an internal node\n",
        "    - max_depth: the allowable depth of the tree\n",
        "\n",
        "    Output: the root node of the tree.\n",
        "    \"\"\"\n",
        "    root = None\n",
        "    ###########################################################################\n",
        "    # TODO: Implement the function.                                           #\n",
        "    ###########################################################################\n",
        "\n",
        "    q = queue.Queue()\n",
        "    depth = 0\n",
        "\n",
        "    # create the root node with all the samples\n",
        "    root = DecisionNode(depth=depth, \n",
        "                        data=pd.DataFrame(data), \n",
        "                        feature=None, \n",
        "                        feature_value='root',\n",
        "                        prediction=None, \n",
        "                        impurity=None)\n",
        "\n",
        "    # insert the node to initilalize a queue\n",
        "    q.put(root)\n",
        "\n",
        "    # while there are incomplete nodes on the queue\n",
        "    while q.qsize() > 0:\n",
        "\n",
        "      # take node from the queue\n",
        "      node = q.get()\n",
        "\n",
        "      #set prediction on a node by majority\n",
        "      data_y_labels, data_y_counter = np.unique(node.data.to_numpy()[:,-1], return_counts=True)\n",
        "      node.prediction = data_y_labels[np.argmax(data_y_counter)]\n",
        "\n",
        "      # if height is greater, stop building tree\n",
        "      if node.depth >= max_depth: \n",
        "        continue\n",
        "\n",
        "      # check if impurity is close to  0 (perfectly classified)\n",
        "      node.impurity = impurity(node.data.to_numpy())\n",
        "      \n",
        "      # if np.isclose(node.impurity,0): \n",
        "      #  continue\n",
        "      #mark it as complete (make it a leaf)\n",
        "      if node.impurity == 0: \n",
        "        continue\n",
        "\n",
        "      # if not pure/perfectly classified, find best decision attribute for the node\n",
        "      attributes_gos = []\n",
        "      \n",
        "      # for every feature in the node (not the labels), calculate goodness of split\n",
        "      for feature in range(node.data.columns.size-1):\n",
        "        attributes_gos.append(goodness_of_split(node.data.to_numpy(), feature, impurity, gain_ratio))\n",
        "      \n",
        "      # if np.isclose(np.max(attributes_gos),0):\n",
        "      #   continue\n",
        "      # if max GOS is 0, then it does not differ from its parent so its a leaf\n",
        "      if np.max(attributes_gos) == 0:\n",
        "        continue\n",
        "\n",
        "      # set that best attribute to the node (setting the index)\n",
        "      node.feature = node.data.columns[np.argmax(attributes_gos)]\n",
        "\n",
        "      #don't split a node if the number of samples in it is less or equal to the min_samples_split value\n",
        "      if len(node.data.index) <= min_samples_split:\n",
        "        continue\n",
        "      \n",
        "      # for each value in that attribute, create a new child for the node\n",
        "      for val in np.unique(node.data[node.feature]):\n",
        "\n",
        "        # get subset of data filtered for that value\n",
        "        value_data = node.data[node.data[node.feature] == val]\n",
        "        value_data = value_data.drop([node.feature], axis = 1)\n",
        "\n",
        "        # distribute training examples to child for that value\n",
        "        child = DecisionNode(depth=node.depth+1, \n",
        "                             data=value_data, \n",
        "                             feature=None, \n",
        "                             feature_value=val,\n",
        "                             prediction=None,\n",
        "                             impurity=None)\n",
        "\n",
        "        # add child to node\n",
        "        node.add_child(child)\n",
        "\n",
        "        # insert all non empty children to queue\n",
        "        q.put(child) \n",
        "\n",
        "    ###########################################################################\n",
        "    #                             END OF YOUR CODE                            #\n",
        "    ###########################################################################\n",
        "    return root"
      ]
    },
    {
      "cell_type": "code",
      "execution_count": null,
      "metadata": {
        "id": "ID7m1d0Scs_U"
      },
      "outputs": [],
      "source": [
        "# python supports passing a function as an argument to another function.\n",
        "tree_gini = build_tree(data=X_train, impurity=calc_gini) # gini and goodness of split\n",
        "tree_entropy = build_tree(data=X_train, impurity=calc_entropy) # entropy and goodness of split\n",
        "tree_entropy_gain_ratio = build_tree(data=X_train, impurity=calc_entropy, gain_ratio=True) # entropy and gain ratio"
      ]
    },
    {
      "cell_type": "markdown",
      "metadata": {
        "id": "P7FBg0stcs_U"
      },
      "source": [
        "## Tree evaluation\n",
        "\n",
        "Complete the functions `predict` and `calc_accuracy`. (10 points)"
      ]
    },
    {
      "cell_type": "code",
      "execution_count": null,
      "metadata": {
        "id": "c0HMyRczcs_U"
      },
      "outputs": [],
      "source": [
        "def predict(node, instance):\n",
        "    \"\"\"\n",
        "    Predict a given instance using the decision tree\n",
        " \n",
        "    Input:\n",
        "    - root: the root of the decision tree.\n",
        "    - instance: an row vector from the dataset. Note that the last element \n",
        "                of this vector is the label of the instance.\n",
        " \n",
        "    Output: the prediction of the instance.\n",
        "    \"\"\"\n",
        "    pred = None\n",
        "    ###########################################################################\n",
        "    # TODO: Implement the function.                                           #\n",
        "    ###########################################################################\n",
        "    \n",
        "    current_node = node\n",
        "    stop = False\n",
        "\n",
        "    # while current node has children\n",
        "    while len(current_node.children)> 0 and stop == False:\n",
        "\n",
        "      # get the feature for which node splits\n",
        "      current_split_feature = current_node.feature\n",
        "\n",
        "      #get all the feature value of children\n",
        "      child_features = [child.feature_value for child in current_node.children]\n",
        "\n",
        "      # for each of the children\n",
        "      for child in current_node.children: \n",
        "\n",
        "        # extract feature value for that child\n",
        "        child_feature_value = child.feature_value\n",
        "\n",
        "        # if instance val not in child feature vals, flag stop\n",
        "        if instance[current_split_feature] not in child_features:\n",
        "          stop = True\n",
        "\n",
        "        # if child value is equal to the feature for which instance splits\n",
        "        if instance[current_split_feature] == child_feature_value: \n",
        "          current_node = child\n",
        "          break\n",
        "\n",
        "    node = current_node\n",
        "\n",
        "    ###########################################################################\n",
        "    #                             END OF YOUR CODE                            #\n",
        "    ###########################################################################\n",
        "    return node.prediction"
      ]
    },
    {
      "cell_type": "code",
      "execution_count": null,
      "metadata": {
        "id": "cydKDSRvcs_U"
      },
      "outputs": [],
      "source": [
        "def calc_accuracy(node, dataset):\n",
        "    \"\"\"\n",
        "    Predict a given dataset using the decision tree\n",
        " \n",
        "    Input:\n",
        "    - node: a node in the decision tree.\n",
        "    - dataset: the dataset on which the accuracy is evaluated\n",
        " \n",
        "    Output: the accuracy of the decision tree on the given dataset (%).\n",
        "    \"\"\"\n",
        "    accuracy = 0\n",
        "    ###########################################################################\n",
        "    # TODO: Implement the function.                                           #\n",
        "    ###########################################################################\n",
        "\n",
        "    correct_predictions = 0\n",
        "    # for each instance\n",
        "    for instance_row in dataset:\n",
        "\n",
        "      # get instance prediction\n",
        "      prediction = predict(node, instance_row)\n",
        "\n",
        "      # get label for that dataset\n",
        "      label = instance_row[-1]\n",
        "\n",
        "      if prediction == label:\n",
        "        correct_predictions += 1\n",
        "      \n",
        "    accuracy = correct_predictions / len(dataset)\n",
        "\n",
        "    ###########################################################################\n",
        "    #                             END OF YOUR CODE                            #\n",
        "    ###########################################################################\n",
        "    return accuracy "
      ]
    },
    {
      "cell_type": "markdown",
      "metadata": {
        "id": "1LL8Pp7hcs_V"
      },
      "source": [
        "After building the three trees using the training set, you should calculate the accuracy on the test set. For each tree print the training and test accuracy. Select the tree that gave you the best test accuracy. For the rest of the exercise, use that tree (when you asked to build another tree use the same impurity function and same gain_ratio flag). "
      ]
    },
    {
      "cell_type": "code",
      "execution_count": null,
      "metadata": {
        "colab": {
          "base_uri": "https://localhost:8080/"
        },
        "id": "nndi8Khucs_V",
        "outputId": "8df89888-633a-459e-e80c-410a4e1105ae"
      },
      "outputs": [
        {
          "name": "stdout",
          "output_type": "stream",
          "text": [
            "X_train for Gini: 99.24503528639423%\n",
            "X_test for Gini: 77.49876907927128%\n",
            "X_train for Entropy: 99.40915805022156%\n",
            "X_test for Entropy: 77.25258493353027%\n",
            "X_train for Split Gain Ratio: 99.63892991957984%\n",
            "X_test for Split Gain Ratio: 78.53274249138356%\n",
            "The tree that resulted in the best test accuracy was: Split Gain Ratio with 78.53274249138356%\n"
          ]
        }
      ],
      "source": [
        "#### Your code here ####\n",
        "\n",
        "gini_train_accuracy = calc_accuracy(tree_gini, X_train)\n",
        "gini_test_accuracy = calc_accuracy(tree_gini, X_test)\n",
        "\n",
        "print(f\"X_train for Gini: {gini_train_accuracy * 100}%\")\n",
        "print(f\"X_test for Gini: {gini_test_accuracy * 100}%\")\n",
        "\n",
        "entropy_train_accuracy = calc_accuracy(tree_entropy, X_train)\n",
        "entropy_test_accuracy = calc_accuracy(tree_entropy, X_test)\n",
        "\n",
        "print(f\"X_train for Entropy: {entropy_train_accuracy * 100}%\")\n",
        "print(f\"X_test for Entropy: {entropy_test_accuracy * 100}%\")\n",
        "\n",
        "split_train_accuracy = calc_accuracy(tree_entropy_gain_ratio, X_train)\n",
        "split_test_accuracy = calc_accuracy(tree_entropy_gain_ratio, X_test)\n",
        "\n",
        "print(f\"X_train for Split Gain Ratio: {split_train_accuracy * 100}%\")\n",
        "print(f\"X_test for Split Gain Ratio: {split_test_accuracy * 100}%\")\n",
        "\n",
        "options = ['Gini', 'Entropy', 'Split Gain Ratio']\n",
        "best_accuracy = np.max([gini_test_accuracy, entropy_test_accuracy, split_test_accuracy])\n",
        "best_accuracy_tree = options[np.argmax([gini_test_accuracy, entropy_test_accuracy, split_test_accuracy])]\n",
        "\n",
        "print(f\"The tree that resulted in the best test accuracy was: {best_accuracy_tree} with {best_accuracy*100}%\")"
      ]
    },
    {
      "cell_type": "markdown",
      "metadata": {
        "id": "hQiBCnEWcs_V"
      },
      "source": [
        "## Depth pruning\n",
        "\n",
        "(15 points)\n",
        "\n",
        "Consider the following max_depth values: [1, 2, 3, 4, 5, 6, 7, 8]. For each value, construct a tree and prune it according to the max_depth value = don't let the tree to grow beyond this depth. Next, calculate the training and testing accuracy.<br>\n",
        "On a single plot, draw the training and testing accuracy as a function of the max_depth. Mark the best result on the graph with red circle."
      ]
    },
    {
      "cell_type": "code",
      "execution_count": null,
      "metadata": {
        "id": "JCtA8BArcs_V"
      },
      "outputs": [],
      "source": [
        "#### Your code here ####\n",
        "max_depth_list = [1, 2, 3, 4, 5, 6, 7, 8]\n",
        "train_accuracies_list = []\n",
        "test_accuracies_list = []\n",
        "\n",
        "for value in max_depth_list:\n",
        "  tree_entropy_gain_ratio = build_tree(data=X_train, impurity=calc_entropy, gain_ratio=True, max_depth=value)\n",
        "  depth_train_accuracy = calc_accuracy(tree_entropy_gain_ratio, X_train)\n",
        "  depth_test_accuracy = calc_accuracy(tree_entropy_gain_ratio, X_test)\n",
        "  train_accuracies_list.append(depth_train_accuracy)\n",
        "  test_accuracies_list.append(depth_test_accuracy)\n",
        "  # print (\"*\")\n",
        "  # print(value)\n",
        "  # print(depth_test_accuracy)\n",
        "  # print(count_nodes(tree_entropy_gain_ratio))\n",
        "  # print(\"*\")\n"
      ]
    },
    {
      "cell_type": "code",
      "execution_count": null,
      "metadata": {
        "colab": {
          "base_uri": "https://localhost:8080/",
          "height": 279
        },
        "id": "zG9P67CIosU_",
        "outputId": "df3125c3-d9c9-4749-9423-4062629cc14b"
      },
      "outputs": [
        {
          "data": {
            "image/png": "[encoded data removed]",
            "text/plain": [
              "<Figure size 432x288 with 1 Axes>"
            ]
          },
          "metadata": {
            "needs_background": "light"
          },
          "output_type": "display_data"
        }
      ],
      "source": [
        "#from matplotlib import style\n",
        "#style.use('dark_background')\n",
        "plt.plot(max_depth_list,train_accuracies_list, label=\"Train Accuracies\")\n",
        "plt.plot(max_depth_list,test_accuracies_list, label=\"Test Accuracies\")\n",
        "plt.xlabel(\"Depth\")\n",
        "plt.ylabel(\"Accuracy\")\n",
        "plt.legend()\n",
        "best_x_point = max_depth_list[np.argmax(test_accuracies_list)]\n",
        "best_y_point = np.max(test_accuracies_list)\n",
        "_ = plt.scatter([best_x_point],[best_y_point], facecolors='none', edgecolors='r' ,s=100)\n",
        "_ = plt.xticks(max_depth_list)\n",
        "\n"
      ]
    },
    {
      "cell_type": "markdown",
      "metadata": {
        "id": "BN5qDYR7cs_V"
      },
      "source": [
        "## Min Samples Split\n",
        "\n",
        "(15 points)\n",
        "\n",
        "Consider the following min_samples_split values: [1, 5, 10, 20, 50]. For each value, construct a tree and prune it according to the min_samples_split value = don't split a node if the number of sample in it is less or equal to the min_samples_split value. Next, calculate the training and testing accuracy.<br>\n",
        "On a single plot, draw the training and testing accuracy as a function of the min_samples_split. Mark the best result on the graph with red circle. (make sure that the x-axis ticks represent the values of min_samples_split)"
      ]
    },
    {
      "cell_type": "code",
      "execution_count": null,
      "metadata": {
        "id": "YsUvBcLEcs_V"
      },
      "outputs": [],
      "source": [
        "#### Your code here ####\n",
        "min_samples_split = [1, 5, 10, 20, 50]\n",
        "train_accuracies_list = []\n",
        "test_accuracies_list = []\n",
        "\n",
        "for value in min_samples_split:\n",
        "  tree_entropy_gain_ratio = build_tree(data=X_train, impurity=calc_entropy, gain_ratio=True, min_samples_split=value)\n",
        "  split_train_accuracy = calc_accuracy(tree_entropy_gain_ratio, X_train)\n",
        "  split_test_accuracy = calc_accuracy(tree_entropy_gain_ratio, X_test)\n",
        "  train_accuracies_list.append(split_train_accuracy)\n",
        "  test_accuracies_list.append(split_test_accuracy)\n",
        "  # print (\"*\")\n",
        "  # print(value)\n",
        "  # print(split_test_accuracy)\n",
        "  # print(count_nodes(tree_entropy_gain_ratio))\n",
        "  # print(\"*\")"
      ]
    },
    {
      "cell_type": "code",
      "execution_count": null,
      "metadata": {
        "colab": {
          "base_uri": "https://localhost:8080/",
          "height": 279
        },
        "id": "cWrBDixfosVA",
        "outputId": "a05dbbd0-4e27-4b2c-fc5e-e84a4eba0c64"
      },
      "outputs": [
        {
          "data": {
            "image/png": "[encoded data removed]",
            "text/plain": [
              "<Figure size 432x288 with 1 Axes>"
            ]
          },
          "metadata": {
            "needs_background": "light"
          },
          "output_type": "display_data"
        }
      ],
      "source": [
        "#from matplotlib import style\n",
        "#style.use('dark_background')\n",
        "plt.plot(min_samples_split,train_accuracies_list, label=\"Train Accuracies\")\n",
        "plt.plot(min_samples_split,test_accuracies_list, label=\"Test Accuracies\")\n",
        "plt.xlabel(\"Min Split\")\n",
        "plt.ylabel(\"Accuracy\")\n",
        "plt.legend()\n",
        "best_x_point = min_samples_split[np.argmax(test_accuracies_list)]\n",
        "best_y_point = np.max(test_accuracies_list)\n",
        "_ = plt.scatter([best_x_point],[best_y_point], facecolors='none', edgecolors='r' ,s=100)\n",
        "_ = plt.xticks(min_samples_split)\n"
      ]
    },
    {
      "cell_type": "markdown",
      "metadata": {
        "id": "seOU-9Xpcs_V"
      },
      "source": [
        "Build the best 2 trees:\n",
        "1. tree_max_depth - the best tree according to max_depth pruning\n",
        "1. tree_min_samples_split - the best tree according to min_samples_split pruning"
      ]
    },
    {
      "cell_type": "code",
      "execution_count": null,
      "metadata": {
        "id": "cGQggMxVcs_V"
      },
      "outputs": [],
      "source": [
        "#### Your code here ####\n",
        "tree_entropy_gain_ratio = build_tree(data=X_train, impurity=calc_entropy, gain_ratio=True, max_depth=4)\n",
        "tree_entropy_gain_ratio = build_tree(data=X_train, impurity=calc_entropy, gain_ratio=True, min_samples_split=5)\n"
      ]
    },
    {
      "cell_type": "markdown",
      "metadata": {
        "id": "gmpcyvALcs_W"
      },
      "source": [
        "## Number of Nodes\n",
        "\n",
        "(5 points)\n",
        "\n",
        "Complete the function counts_nodes and print the number of nodes in each tree and print the number of nodes of the two trees above"
      ]
    },
    {
      "cell_type": "code",
      "execution_count": null,
      "metadata": {
        "id": "EYUixJSucs_W"
      },
      "outputs": [],
      "source": [
        "def count_nodes(node):\n",
        "    \"\"\"\n",
        "    Count the number of node in a given tree\n",
        " \n",
        "    Input:\n",
        "    - node: a node in the decision tree.\n",
        " \n",
        "    Output: the number of node in the tree.\n",
        "    \"\"\"\n",
        "    ###########################################################################\n",
        "    # TODO: Implement the function.                                           #\n",
        "    ###########################################################################\n",
        "    # include node pass in\n",
        "    count = 1\n",
        "    # recurisvely iterate over all children\n",
        "    for child in node.children:\n",
        "      count += count_nodes(child)\n",
        "    return count\n",
        "    ###########################################################################\n",
        "    #                             END OF YOUR CODE                            #\n",
        "    ###########################################################################\n",
        "    "
      ]
    },
    {
      "cell_type": "markdown",
      "metadata": {
        "id": "MS5LEQs5cs_W"
      },
      "source": [
        "## Print the tree\n",
        "\n",
        "Complete the function `print_tree`. Your tree should be visualized clearly. You can use the following example as a reference:\n",
        "```\n",
        "[ROOT, feature=X0],\n",
        "  [X0=a, feature=X2]\n",
        "    [X2=c, leaf]: [{1.0: 10}]\n",
        "    [X2=d, leaf]: [{0.0: 10}]\n",
        "  [X0=y, feature=X5], \n",
        "    [X5=a, leaf]: [{1.0: 5}]\n",
        "    [X5=s, leaf]: [{0.0: 10}]\n",
        "  [X0=e, leaf]: [{0.0: 25, 1.0: 50}]\n",
        "```\n",
        "In each brackets:\n",
        "* The first argument is the parent feature with the value that led to current node\n",
        "* The second argument is the selected feature of the current node\n",
        "* If the current node is a leaf, you need to print also the labels and their counts\n",
        "\n",
        "(5 points)"
      ]
    },
    {
      "cell_type": "code",
      "execution_count": null,
      "metadata": {
        "id": "e5GfEMTHcs_W"
      },
      "outputs": [],
      "source": [
        "# you can change the function signeture\n",
        "def print_tree(node, depth=0, parent_feature='ROOT', feature_val='ROOT'):\n",
        "    '''\n",
        "    prints the tree according to the example above\n",
        "\n",
        "    Input:\n",
        "    - node: a node in the decision tree\n",
        "\n",
        "    This function has no return value\n",
        "    '''\n",
        "    ###########################################################################\n",
        "    # TODO: Implement the function.                                           #\n",
        "    ###########################################################################\n",
        "    #print root\n",
        "    if parent_feature=='ROOT':\n",
        "        print('  '*depth,f'[ROOT, feature={allFeatures[node.feature]}]')\n",
        "    #printing non leaf \n",
        "    elif (len(node.children) >= 1):\n",
        "        print('  '*depth,f'[{allFeatures[parent_feature]}={feature_val}, feature={allFeatures[node.feature]}]')\n",
        "    #printing leafs\n",
        "    else:\n",
        "        classes, number_of_instances = np.unique(node.data.to_numpy()[:,-1], return_counts=True)\n",
        "        if classes.size < 2:\n",
        "            print('  '*depth,f'[{allFeatures[parent_feature]}={feature_val},leaf]:[{{{classes[0]}:{number_of_instances[0]}}}]')\n",
        "        else:\n",
        "            print('  '*depth,f'[{allFeatures[parent_feature]}={feature_val},leaf]:[{{{classes[0]}:{number_of_instances[0]}, {classes[1]}:{number_of_instances[1]}}}]')\n",
        "    #print children\n",
        "    for child in node.children:\n",
        "        print_tree(child, child.depth, node.feature, child.feature_value)\n",
        "    ###########################################################################\n",
        "    #                             END OF YOUR CODE                            #\n",
        "    ###########################################################################"
      ]
    },
    {
      "cell_type": "markdown",
      "metadata": {
        "id": "GDsxdze_cs_X"
      },
      "source": [
        "print the tree with the best test accuracy and with less than 50 nodes (from the two pruning methods)"
      ]
    },
    {
      "cell_type": "code",
      "execution_count": null,
      "metadata": {
        "colab": {
          "base_uri": "https://localhost:8080/"
        },
        "id": "3s2dKLo6cs_X",
        "outputId": "9cac3e4d-ff27-46e6-ec29-a800827fbcd0"
      },
      "outputs": [
        {
          "name": "stdout",
          "output_type": "stream",
          "text": [
            " [ROOT, feature=odor]\n",
            "   [odor=a,leaf]:[{e:273, p:31}]\n",
            "   [odor=c,leaf]:[{e:10, p:137}]\n",
            "   [odor=f,leaf]:[{e:170, p:1438}]\n",
            "   [odor=l,leaf]:[{e:272, p:27}]\n",
            "   [odor=m,leaf]:[{e:2, p:25}]\n",
            "   [odor=n,leaf]:[{e:2332, p:344}]\n",
            "   [odor=p,leaf]:[{e:8, p:175}]\n",
            "   [odor=s,leaf]:[{e:38, p:380}]\n",
            "   [odor=y,leaf]:[{e:49, p:382}]\n"
          ]
        }
      ],
      "source": [
        "#### Your code here ####\n",
        "allFeatures = list(data.columns)\n",
        "tree_entropy_gain_ratio = build_tree(data=X_train, impurity=calc_entropy, gain_ratio=True, max_depth=1)\n",
        "print_tree(tree_entropy_gain_ratio)"
      ]
    }
  ],
  "metadata": {
    "celltoolbar": "Create Assignment",
    "colab": {
      "collapsed_sections": [],
      "name": "hw2_303012561_345428312.ipynb",
      "provenance": []
    },
    "kernelspec": {
      "display_name": "Python 3",
      "language": "python",
      "name": "python3"
    },
    "language_info": {
      "codemirror_mode": {
        "name": "ipython",
        "version": 3
      },
      "file_extension": ".py",
      "mimetype": "text/x-python",
      "name": "python",
      "nbconvert_exporter": "python",
      "pygments_lexer": "ipython3",
      "version": "3.8.12"
    }
  },
  "nbformat": 4,
  "nbformat_minor": 0
}
